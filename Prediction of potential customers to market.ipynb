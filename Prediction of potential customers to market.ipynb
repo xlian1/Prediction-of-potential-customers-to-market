{
 "cells": [
  {
   "cell_type": "code",
   "execution_count": 30,
   "metadata": {},
   "outputs": [],
   "source": [
    "import pandas as pd\n",
    "import numpy as np\n",
    "import seaborn as sns\n",
    "import matplotlib.pyplot as plt\n",
    "from collections import Counter\n",
    "from sklearn.model_selection import train_test_split\n",
    "from sklearn.preprocessing import LabelEncoder\n",
    "from sklearn.ensemble import GradientBoostingClassifier\n",
    "from sklearn.ensemble import RandomForestClassifier, RandomForestRegressor\n",
    "from sklearn.linear_model import LogisticRegression\n",
    "from sklearn.metrics import accuracy_score\n",
    "from sklearn import linear_model\n",
    "from sklearn.metrics import f1_score"
   ]
  },
  {
   "cell_type": "code",
   "execution_count": 2,
   "metadata": {},
   "outputs": [
    {
     "name": "stderr",
     "output_type": "stream",
     "text": [
      "/Users/Evelyn/anaconda3/lib/python3.6/site-packages/IPython/core/interactiveshell.py:2698: DtypeWarning: Columns (8) have mixed types. Specify dtype option on import or set low_memory=False.\n",
      "  interactivity=interactivity, compiler=compiler, result=result)\n"
     ]
    }
   ],
   "source": [
    "#read the data\n",
    "train_origin = pd.read_csv('/Users/Evelyn/Desktop/Data Science Case Study V2 (amcelhinney)/data/train.csv')\n",
    "test_origin = pd.read_csv('/Users/Evelyn/Desktop/Data Science Case Study V2 (amcelhinney)/data/test.csv')"
   ]
  },
  {
   "cell_type": "code",
   "execution_count": 3,
   "metadata": {
    "collapsed": true
   },
   "outputs": [],
   "source": [
    "train_data = train_origin.copy()\n",
    "test_data = test_origin.copy()"
   ]
  },
  {
   "cell_type": "code",
   "execution_count": 4,
   "metadata": {},
   "outputs": [
    {
     "name": "stdout",
     "output_type": "stream",
     "text": [
      "(182190, 481)\n",
      "(9589, 480)\n"
     ]
    }
   ],
   "source": [
    "# print(x_train.shape)\n",
    "# print(y_train.shape)\n",
    "# print(x_test.shape)\n",
    "# print(y_test.shape)\n",
    "print(train_data.shape)\n",
    "print(test_data.shape)"
   ]
  },
  {
   "cell_type": "code",
   "execution_count": 7,
   "metadata": {
    "collapsed": true
   },
   "outputs": [],
   "source": [
    "#read the Marketingcost file \n",
    "zipMark = pd.read_csv('/Users/Evelyn/Desktop/Data Science Case Study V2 (amcelhinney)/zipCodeMarketingCosts.csv')"
   ]
  },
  {
   "cell_type": "code",
   "execution_count": 41,
   "metadata": {},
   "outputs": [
    {
     "data": {
      "text/plain": [
       "dtype('int64')"
      ]
     },
     "execution_count": 41,
     "metadata": {},
     "output_type": "execute_result"
    }
   ],
   "source": [
    "zipMark.zip.dtypes"
   ]
  },
  {
   "cell_type": "code",
   "execution_count": 9,
   "metadata": {},
   "outputs": [
    {
     "name": "stdout",
     "output_type": "stream",
     "text": [
      "<class 'pandas.core.frame.DataFrame'>\n",
      "RangeIndex: 182190 entries, 0 to 182189\n",
      "Columns: 481 entries, date to geocode2\n",
      "dtypes: float64(97), int64(310), object(74)\n",
      "memory usage: 668.6+ MB\n",
      "<class 'pandas.core.frame.DataFrame'>\n",
      "RangeIndex: 9589 entries, 0 to 9588\n",
      "Columns: 480 entries, date to market\n",
      "dtypes: float64(97), int64(309), object(74)\n",
      "memory usage: 35.1+ MB\n"
     ]
    }
   ],
   "source": [
    "train_data.info()\n",
    "test_data.info()"
   ]
  },
  {
   "cell_type": "code",
   "execution_count": 10,
   "metadata": {
    "collapsed": true
   },
   "outputs": [
    {
     "data": {
      "text/html": [
       "<div>\n",
       "<style>\n",
       "    .dataframe thead tr:only-child th {\n",
       "        text-align: right;\n",
       "    }\n",
       "\n",
       "    .dataframe thead th {\n",
       "        text-align: left;\n",
       "    }\n",
       "\n",
       "    .dataframe tbody tr th {\n",
       "        vertical-align: top;\n",
       "    }\n",
       "</style>\n",
       "<table border=\"1\" class=\"dataframe\">\n",
       "  <thead>\n",
       "    <tr style=\"text-align: right;\">\n",
       "      <th></th>\n",
       "      <th>date</th>\n",
       "      <th>title</th>\n",
       "      <th>dob</th>\n",
       "      <th>age</th>\n",
       "      <th>numchld</th>\n",
       "      <th>income_range</th>\n",
       "      <th>wealth1</th>\n",
       "      <th>hit</th>\n",
       "      <th>mbcraft</th>\n",
       "      <th>mbgarden</th>\n",
       "      <th>...</th>\n",
       "      <th>fistdate</th>\n",
       "      <th>nextdate</th>\n",
       "      <th>timelag</th>\n",
       "      <th>avggift</th>\n",
       "      <th>id</th>\n",
       "      <th>responded</th>\n",
       "      <th>amount</th>\n",
       "      <th>hphone_d</th>\n",
       "      <th>rfa_2f</th>\n",
       "      <th>cluster2</th>\n",
       "    </tr>\n",
       "  </thead>\n",
       "  <tbody>\n",
       "    <tr>\n",
       "      <th>count</th>\n",
       "      <td>182190.000000</td>\n",
       "      <td>182190.000000</td>\n",
       "      <td>182190.000000</td>\n",
       "      <td>137091.000000</td>\n",
       "      <td>23642.000000</td>\n",
       "      <td>141573.000000</td>\n",
       "      <td>96822.000000</td>\n",
       "      <td>182190.000000</td>\n",
       "      <td>81303.000000</td>\n",
       "      <td>81303.000000</td>\n",
       "      <td>...</td>\n",
       "      <td>182190.000000</td>\n",
       "      <td>163192.000000</td>\n",
       "      <td>163192.000000</td>\n",
       "      <td>182190.000000</td>\n",
       "      <td>182190.000000</td>\n",
       "      <td>182190.000000</td>\n",
       "      <td>9249.000000</td>\n",
       "      <td>182190.000000</td>\n",
       "      <td>182190.000000</td>\n",
       "      <td>181940.000000</td>\n",
       "    </tr>\n",
       "    <tr>\n",
       "      <th>mean</th>\n",
       "      <td>9141.343746</td>\n",
       "      <td>54.011032</td>\n",
       "      <td>2726.705170</td>\n",
       "      <td>61.593722</td>\n",
       "      <td>1.527747</td>\n",
       "      <td>3.886129</td>\n",
       "      <td>5.349063</td>\n",
       "      <td>3.314781</td>\n",
       "      <td>0.151790</td>\n",
       "      <td>0.058940</td>\n",
       "      <td>...</td>\n",
       "      <td>9135.616422</td>\n",
       "      <td>9151.115594</td>\n",
       "      <td>8.097468</td>\n",
       "      <td>13.334883</td>\n",
       "      <td>91094.500000</td>\n",
       "      <td>0.050766</td>\n",
       "      <td>26.550695</td>\n",
       "      <td>0.501032</td>\n",
       "      <td>1.910039</td>\n",
       "      <td>31.542470</td>\n",
       "    </tr>\n",
       "    <tr>\n",
       "      <th>std</th>\n",
       "      <td>343.435045</td>\n",
       "      <td>944.160699</td>\n",
       "      <td>2132.260681</td>\n",
       "      <td>16.662907</td>\n",
       "      <td>0.805797</td>\n",
       "      <td>1.854540</td>\n",
       "      <td>2.742582</td>\n",
       "      <td>9.234371</td>\n",
       "      <td>0.469216</td>\n",
       "      <td>0.261593</td>\n",
       "      <td>...</td>\n",
       "      <td>320.480755</td>\n",
       "      <td>294.266119</td>\n",
       "      <td>8.296798</td>\n",
       "      <td>10.657192</td>\n",
       "      <td>52593.867109</td>\n",
       "      <td>0.219519</td>\n",
       "      <td>21.134328</td>\n",
       "      <td>0.500000</td>\n",
       "      <td>1.073082</td>\n",
       "      <td>18.763625</td>\n",
       "    </tr>\n",
       "    <tr>\n",
       "      <th>min</th>\n",
       "      <td>8306.000000</td>\n",
       "      <td>0.000000</td>\n",
       "      <td>0.000000</td>\n",
       "      <td>1.000000</td>\n",
       "      <td>1.000000</td>\n",
       "      <td>1.000000</td>\n",
       "      <td>0.000000</td>\n",
       "      <td>0.000000</td>\n",
       "      <td>0.000000</td>\n",
       "      <td>0.000000</td>\n",
       "      <td>...</td>\n",
       "      <td>0.000000</td>\n",
       "      <td>7211.000000</td>\n",
       "      <td>0.000000</td>\n",
       "      <td>1.285714</td>\n",
       "      <td>0.000000</td>\n",
       "      <td>0.000000</td>\n",
       "      <td>1.700000</td>\n",
       "      <td>0.000000</td>\n",
       "      <td>1.000000</td>\n",
       "      <td>1.000000</td>\n",
       "    </tr>\n",
       "    <tr>\n",
       "      <th>25%</th>\n",
       "      <td>8801.000000</td>\n",
       "      <td>0.000000</td>\n",
       "      <td>201.000000</td>\n",
       "      <td>48.000000</td>\n",
       "      <td>1.000000</td>\n",
       "      <td>2.000000</td>\n",
       "      <td>3.000000</td>\n",
       "      <td>0.000000</td>\n",
       "      <td>0.000000</td>\n",
       "      <td>0.000000</td>\n",
       "      <td>...</td>\n",
       "      <td>8810.000000</td>\n",
       "      <td>8903.000000</td>\n",
       "      <td>4.000000</td>\n",
       "      <td>8.400000</td>\n",
       "      <td>45547.250000</td>\n",
       "      <td>0.000000</td>\n",
       "      <td>17.000000</td>\n",
       "      <td>0.000000</td>\n",
       "      <td>1.000000</td>\n",
       "      <td>15.000000</td>\n",
       "    </tr>\n",
       "    <tr>\n",
       "      <th>50%</th>\n",
       "      <td>9201.000000</td>\n",
       "      <td>1.000000</td>\n",
       "      <td>2611.000000</td>\n",
       "      <td>62.000000</td>\n",
       "      <td>1.000000</td>\n",
       "      <td>4.000000</td>\n",
       "      <td>6.000000</td>\n",
       "      <td>0.000000</td>\n",
       "      <td>0.000000</td>\n",
       "      <td>0.000000</td>\n",
       "      <td>...</td>\n",
       "      <td>9201.000000</td>\n",
       "      <td>9204.000000</td>\n",
       "      <td>6.000000</td>\n",
       "      <td>11.647059</td>\n",
       "      <td>91094.500000</td>\n",
       "      <td>0.000000</td>\n",
       "      <td>22.100000</td>\n",
       "      <td>1.000000</td>\n",
       "      <td>2.000000</td>\n",
       "      <td>32.000000</td>\n",
       "    </tr>\n",
       "    <tr>\n",
       "      <th>75%</th>\n",
       "      <td>9501.000000</td>\n",
       "      <td>2.000000</td>\n",
       "      <td>4601.000000</td>\n",
       "      <td>75.000000</td>\n",
       "      <td>2.000000</td>\n",
       "      <td>5.000000</td>\n",
       "      <td>8.000000</td>\n",
       "      <td>3.000000</td>\n",
       "      <td>0.000000</td>\n",
       "      <td>0.000000</td>\n",
       "      <td>...</td>\n",
       "      <td>9409.000000</td>\n",
       "      <td>9409.000000</td>\n",
       "      <td>11.000000</td>\n",
       "      <td>15.500000</td>\n",
       "      <td>136641.750000</td>\n",
       "      <td>0.000000</td>\n",
       "      <td>34.000000</td>\n",
       "      <td>1.000000</td>\n",
       "      <td>3.000000</td>\n",
       "      <td>49.000000</td>\n",
       "    </tr>\n",
       "    <tr>\n",
       "      <th>max</th>\n",
       "      <td>9701.000000</td>\n",
       "      <td>72002.000000</td>\n",
       "      <td>9710.000000</td>\n",
       "      <td>98.000000</td>\n",
       "      <td>7.000000</td>\n",
       "      <td>7.000000</td>\n",
       "      <td>9.000000</td>\n",
       "      <td>241.000000</td>\n",
       "      <td>6.000000</td>\n",
       "      <td>4.000000</td>\n",
       "      <td>...</td>\n",
       "      <td>9603.000000</td>\n",
       "      <td>9702.000000</td>\n",
       "      <td>1088.000000</td>\n",
       "      <td>1000.000000</td>\n",
       "      <td>182189.000000</td>\n",
       "      <td>1.000000</td>\n",
       "      <td>340.000000</td>\n",
       "      <td>1.000000</td>\n",
       "      <td>4.000000</td>\n",
       "      <td>62.000000</td>\n",
       "    </tr>\n",
       "  </tbody>\n",
       "</table>\n",
       "<p>8 rows × 407 columns</p>\n",
       "</div>"
      ],
      "text/plain": [
       "                date          title            dob            age  \\\n",
       "count  182190.000000  182190.000000  182190.000000  137091.000000   \n",
       "mean     9141.343746      54.011032    2726.705170      61.593722   \n",
       "std       343.435045     944.160699    2132.260681      16.662907   \n",
       "min      8306.000000       0.000000       0.000000       1.000000   \n",
       "25%      8801.000000       0.000000     201.000000      48.000000   \n",
       "50%      9201.000000       1.000000    2611.000000      62.000000   \n",
       "75%      9501.000000       2.000000    4601.000000      75.000000   \n",
       "max      9701.000000   72002.000000    9710.000000      98.000000   \n",
       "\n",
       "            numchld   income_range       wealth1            hit       mbcraft  \\\n",
       "count  23642.000000  141573.000000  96822.000000  182190.000000  81303.000000   \n",
       "mean       1.527747       3.886129      5.349063       3.314781      0.151790   \n",
       "std        0.805797       1.854540      2.742582       9.234371      0.469216   \n",
       "min        1.000000       1.000000      0.000000       0.000000      0.000000   \n",
       "25%        1.000000       2.000000      3.000000       0.000000      0.000000   \n",
       "50%        1.000000       4.000000      6.000000       0.000000      0.000000   \n",
       "75%        2.000000       5.000000      8.000000       3.000000      0.000000   \n",
       "max        7.000000       7.000000      9.000000     241.000000      6.000000   \n",
       "\n",
       "           mbgarden      ...             fistdate       nextdate  \\\n",
       "count  81303.000000      ...        182190.000000  163192.000000   \n",
       "mean       0.058940      ...          9135.616422    9151.115594   \n",
       "std        0.261593      ...           320.480755     294.266119   \n",
       "min        0.000000      ...             0.000000    7211.000000   \n",
       "25%        0.000000      ...          8810.000000    8903.000000   \n",
       "50%        0.000000      ...          9201.000000    9204.000000   \n",
       "75%        0.000000      ...          9409.000000    9409.000000   \n",
       "max        4.000000      ...          9603.000000    9702.000000   \n",
       "\n",
       "             timelag        avggift             id      responded  \\\n",
       "count  163192.000000  182190.000000  182190.000000  182190.000000   \n",
       "mean        8.097468      13.334883   91094.500000       0.050766   \n",
       "std         8.296798      10.657192   52593.867109       0.219519   \n",
       "min         0.000000       1.285714       0.000000       0.000000   \n",
       "25%         4.000000       8.400000   45547.250000       0.000000   \n",
       "50%         6.000000      11.647059   91094.500000       0.000000   \n",
       "75%        11.000000      15.500000  136641.750000       0.000000   \n",
       "max      1088.000000    1000.000000  182189.000000       1.000000   \n",
       "\n",
       "            amount       hphone_d         rfa_2f       cluster2  \n",
       "count  9249.000000  182190.000000  182190.000000  181940.000000  \n",
       "mean     26.550695       0.501032       1.910039      31.542470  \n",
       "std      21.134328       0.500000       1.073082      18.763625  \n",
       "min       1.700000       0.000000       1.000000       1.000000  \n",
       "25%      17.000000       0.000000       1.000000      15.000000  \n",
       "50%      22.100000       1.000000       2.000000      32.000000  \n",
       "75%      34.000000       1.000000       3.000000      49.000000  \n",
       "max     340.000000       1.000000       4.000000      62.000000  \n",
       "\n",
       "[8 rows x 407 columns]"
      ]
     },
     "execution_count": 10,
     "metadata": {},
     "output_type": "execute_result"
    }
   ],
   "source": [
    "train_data.describe()"
   ]
  },
  {
   "cell_type": "code",
   "execution_count": 11,
   "metadata": {
    "collapsed": true
   },
   "outputs": [],
   "source": [
    "#functions to do the data preparation\n",
    "def zip_transform(df):\n",
    "    df.zip = df.zip.str.replace('-','')\n",
    "    df.zip = df.zip.astype('int64')\n",
    "    return(df)\n",
    "\n",
    "#function to merge dataframe with MarketingCosts table on zip \n",
    "def zipMark_merge(df):\n",
    "    df = pd.merge(df, zipMark, how = 'left', on = 'zip')\n",
    "    return(df)\n",
    "\n",
    "\n",
    "# convert title from numerical to object\n",
    "def title_transform(df):\n",
    "    df.title = df.title.astype('object')\n",
    "    return(df)\n",
    "\n",
    "\n",
    "#function to drop selected columns in dataset\n",
    "def drop_col_(df,drop_col):\n",
    "    df.drop(drop_col,axis =1, inplace = True)\n",
    "    return(df)\n",
    "\n",
    "\n",
    "#transform date to days, which is a numerical variable\n",
    "def date_transform(df):\n",
    "    df.time_away_first_time = pd.to_datetime(df.date, format = '%y%m')\n",
    "    df.time_away_first_time = (pd.to_datetime('1998-01-01') - pd.to_datetime(df.time_away_first_time, format = '%y%m'))/np.timedelta64(1, 'Y')\n",
    "    df['time_away_first_time'] = np.floor(df.time_away_first_time)\n",
    "    return(df.time_away_first_time)\n",
    "\n",
    "\n",
    "#fill in NAs in numerical variables with the mean value, and make a drop list of numerical values\n",
    "#with more than 50 percent missing values\n",
    "def fill_num_na(df):\n",
    "    drop_num_columns = []\n",
    "    for i in df.select_dtypes(include=['float','int']).columns:\n",
    "        pert_na = df[i].isnull().sum()/df.shape[0]\n",
    "        if(pert_na > 0.5):\n",
    "            drop_num_columns.append(i)\n",
    "        else:\n",
    "            mean = df[i].mean()\n",
    "            df[i] = df[i].fillna(mean)\n",
    "    return(df, drop_num_columns)\n",
    " \n",
    "#fill in NAs in categorical variables with the mode value, and make a drop list of the categorical variables\n",
    "#with more than half NAs\n",
    "def fill_cat_na(df):\n",
    "    drop_cat_columns = []\n",
    "    for i in df.select_dtypes(include=['object']).columns:\n",
    "        pert_na = df[i].isnull().sum()/df.shape[0]\n",
    "        if(pert_na > 0.5):\n",
    "            drop_cat_columns.append(i)\n",
    "        else:\n",
    "            mode = df[i].mode()\n",
    "            df[i] = df[i].fillna(mode)\n",
    "    return(df, drop_cat_columns)\n",
    "\n",
    "#transform the object features into categorical class \n",
    "def label_encode(df):\n",
    "    for i in df.select_dtypes(include=['O']).columns:\n",
    "        le = LabelEncoder()\n",
    "        df[i] = le.fit_transform(df[i])\n",
    "    return(df)"
   ]
  },
  {
   "cell_type": "code",
   "execution_count": 12,
   "metadata": {},
   "outputs": [
    {
     "name": "stdout",
     "output_type": "stream",
     "text": [
      "noexch\n",
      "geocode2\n"
     ]
    }
   ],
   "source": [
    "#There are two columns in which there are mixed data, \n",
    "for col in train_data.select_dtypes(include=['O']).columns:\n",
    "    weird = (train_data[[col]].applymap(type) != train_data[[col]].iloc[0].apply(type)).any(axis=1)\n",
    "    if len(train_data[weird]) > 0:\n",
    "        print(col)"
   ]
  },
  {
   "cell_type": "code",
   "execution_count": 13,
   "metadata": {
    "collapsed": true
   },
   "outputs": [],
   "source": [
    "#data preprocessing\n",
    "train_data = zip_transform(train_data)\n",
    "test_data = zip_transform(test_data)"
   ]
  },
  {
   "cell_type": "code",
   "execution_count": 14,
   "metadata": {
    "collapsed": true
   },
   "outputs": [],
   "source": [
    "#train_data = zipMark_merge(train_data)\n",
    "#test_data = zipMark_merge(test_data)"
   ]
  },
  {
   "cell_type": "code",
   "execution_count": 15,
   "metadata": {
    "collapsed": true
   },
   "outputs": [],
   "source": [
    "train_data = title_transform(train_data)\n",
    "test_data = title_transform(test_data)"
   ]
  },
  {
   "cell_type": "code",
   "execution_count": 16,
   "metadata": {
    "collapsed": true
   },
   "outputs": [],
   "source": [
    "train_data['time_away_first_time'] = date_transform(train_data)\n",
    "test_data['time_away_first_time'] =(date_transform(test_data))"
   ]
  },
  {
   "cell_type": "code",
   "execution_count": 17,
   "metadata": {
    "collapsed": true
   },
   "outputs": [],
   "source": [
    "train_data,drop_num_columns1 = fill_num_na(train_data)\n",
    "test_data,drop_num_columns2 = fill_num_na(test_data)"
   ]
  },
  {
   "cell_type": "code",
   "execution_count": 18,
   "metadata": {
    "collapsed": true
   },
   "outputs": [],
   "source": [
    "train_data,drop_cat_columns1 =  fill_cat_na(train_data)\n",
    "test_data, drop_cat_columns2 = fill_cat_na(test_data)"
   ]
  },
  {
   "cell_type": "code",
   "execution_count": 19,
   "metadata": {
    "collapsed": true
   },
   "outputs": [],
   "source": [
    "drop_col = drop_num_columns1 + drop_cat_columns1 + ['noexch','geocode2', 'date','zip', 'dob','id']\n",
    "drop_col.remove('amount')"
   ]
  },
  {
   "cell_type": "code",
   "execution_count": 20,
   "metadata": {
    "collapsed": true
   },
   "outputs": [],
   "source": [
    "train_data = drop_col_(train_data,drop_col)\n",
    "test_data = drop_col_(test_data, drop_col)"
   ]
  },
  {
   "cell_type": "code",
   "execution_count": 21,
   "metadata": {},
   "outputs": [
    {
     "data": {
      "text/plain": [
       "(182190, 414)"
      ]
     },
     "execution_count": 21,
     "metadata": {},
     "output_type": "execute_result"
    }
   ],
   "source": [
    "train_data.shape"
   ]
  },
  {
   "cell_type": "code",
   "execution_count": 22,
   "metadata": {
    "collapsed": true
   },
   "outputs": [],
   "source": [
    "train_data = label_encode(train_data)\n",
    "test_data = label_encode(test_data)"
   ]
  },
  {
   "cell_type": "code",
   "execution_count": 23,
   "metadata": {
    "collapsed": true
   },
   "outputs": [],
   "source": [
    "#Let's see the percentage of missing value in each columns\n",
    "# for i in train_data.select_dtypes(include = ['O']).columns:\n",
    "#     print(i)\n",
    "#     print(train_data[i].isnull().sum()/train_data.shape[0])\n",
    "#     print(train_data[i].value_counts())\n",
    "#     print('--------')"
   ]
  },
  {
   "cell_type": "code",
   "execution_count": 24,
   "metadata": {
    "collapsed": true
   },
   "outputs": [],
   "source": [
    "#identify the independent variables and target variables\n",
    "x_train = pd.DataFrame(train_data.loc[:,~train_data.columns.isin(['responded','amount'])])\n",
    "y_amount = train_data.loc[:,train_data.columns =='amount']\n",
    "y_responded = train_data.loc[:,train_data.columns =='responded']\n",
    "x_test = pd.DataFrame(test_data.loc[:, test_data.columns != 'market'])\n",
    "y_test = test_data.loc[:, test_data.columns == 'market']"
   ]
  },
  {
   "cell_type": "code",
   "execution_count": 25,
   "metadata": {
    "collapsed": true
   },
   "outputs": [],
   "source": [
    "#split dataset into training dataset and test dataset\n",
    "train_x_train, train_x_test, train_y_train, train_y_test = train_test_split(x_train, y_responded,test_size=0.2, random_state = 3983)"
   ]
  },
  {
   "cell_type": "code",
   "execution_count": 26,
   "metadata": {},
   "outputs": [
    {
     "data": {
      "text/plain": [
       "0    172941\n",
       "1      9249\n",
       "Name: responded, dtype: int64"
      ]
     },
     "execution_count": 26,
     "metadata": {},
     "output_type": "execute_result"
    }
   ],
   "source": [
    "#The number of customer responded and not responded in the train dataset/known customers\n",
    "train_data.responded.value_counts()"
   ]
  },
  {
   "cell_type": "code",
   "execution_count": 34,
   "metadata": {},
   "outputs": [
    {
     "name": "stderr",
     "output_type": "stream",
     "text": [
      "/Users/Evelyn/anaconda3/lib/python3.6/site-packages/sklearn/utils/validation.py:578: DataConversionWarning: A column-vector y was passed when a 1d array was expected. Please change the shape of y to (n_samples, ), for example using ravel().\n",
      "  y = column_or_1d(y, warn=True)\n"
     ]
    },
    {
     "name": "stdout",
     "output_type": "stream",
     "text": [
      "0.9492288270486854\n",
      "f1 score: 0.000\n"
     ]
    },
    {
     "name": "stderr",
     "output_type": "stream",
     "text": [
      "/Users/Evelyn/anaconda3/lib/python3.6/site-packages/sklearn/metrics/classification.py:1135: UndefinedMetricWarning: F-score is ill-defined and being set to 0.0 due to no predicted samples.\n",
      "  'precision', 'predicted', average, warn_for)\n"
     ]
    }
   ],
   "source": [
    "#build a logistic regression model \n",
    "linear = LogisticRegression(penalty='l1',class_weight={0:18,1:1})\n",
    "linear.fit(train_x_train,train_y_train)\n",
    "pred = linear.predict(train_x_test)\n",
    "print(accuracy_score(pred, train_y_test))\n",
    "print('f1 score: %5.3f' % f1_score(y_pred=pred,y_true=train_y_test))\n",
    "#another option to performance metric F1 score, which works better than the "
   ]
  },
  {
   "cell_type": "code",
   "execution_count": 180,
   "metadata": {
    "collapsed": true
   },
   "outputs": [],
   "source": [
    "#apply the logistic regression model into potential customers\n",
    "test_pred = linear.predict(x_test)"
   ]
  },
  {
   "cell_type": "code",
   "execution_count": 181,
   "metadata": {},
   "outputs": [
    {
     "data": {
      "text/plain": [
       "Counter({0: 9589})"
      ]
     },
     "execution_count": 181,
     "metadata": {},
     "output_type": "execute_result"
    }
   ],
   "source": [
    "#There is only Os , no 1s in the prediction, which turns out it is not accurate\n",
    "\n",
    "Counter(test_pred)"
   ]
  },
  {
   "cell_type": "code",
   "execution_count": 36,
   "metadata": {},
   "outputs": [
    {
     "name": "stderr",
     "output_type": "stream",
     "text": [
      "/Users/Evelyn/anaconda3/lib/python3.6/site-packages/ipykernel_launcher.py:3: DataConversionWarning: A column-vector y was passed when a 1d array was expected. Please change the shape of y to (n_samples,), for example using ravel().\n",
      "  This is separate from the ipykernel package so we can avoid doing imports until\n"
     ]
    },
    {
     "name": "stdout",
     "output_type": "stream",
     "text": [
      "accuracy score: 0.978\n",
      "f1 score: 0.734\n"
     ]
    }
   ],
   "source": [
    "#Then I fit a random forest classifier model\n",
    "rf = RandomForestClassifier(class_weight={0:18, 1:1})\n",
    "rf.fit(train_x_train,train_y_train)\n",
    "rf_predict = rf.predict(train_x_test)\n",
    "print('accuracy score: %5.3f' % accuracy_score(rf_predict, train_y_test))\n",
    "print('f1 score: %5.3f' % f1_score(y_pred=rf_predict,y_true=train_y_test))"
   ]
  },
  {
   "cell_type": "code",
   "execution_count": 37,
   "metadata": {},
   "outputs": [
    {
     "name": "stderr",
     "output_type": "stream",
     "text": [
      "/Users/Evelyn/anaconda3/lib/python3.6/site-packages/ipykernel_launcher.py:2: DataConversionWarning: A column-vector y was passed when a 1d array was expected. Please change the shape of y to (n_samples,), for example using ravel().\n",
      "  \n"
     ]
    },
    {
     "name": "stdout",
     "output_type": "stream",
     "text": [
      "accuracy score: 0.978\n",
      "f1 score: 0.726\n"
     ]
    }
   ],
   "source": [
    "#a random forest classifier model with setting the class weight as balanced\n",
    "rf = RandomForestClassifier(class_weight='balanced')\n",
    "rf.fit(train_x_train,train_y_train)\n",
    "rf_predict = rf.predict(train_x_test)\n",
    "print('accuracy score: %5.3f' % accuracy_score(rf_predict, train_y_test))\n",
    "print('f1 score: %5.3f' % f1_score(y_pred=rf_predict,y_true=train_y_test))"
   ]
  },
  {
   "cell_type": "code",
   "execution_count": 191,
   "metadata": {
    "collapsed": true
   },
   "outputs": [
    {
     "data": {
      "text/html": [
       "<div>\n",
       "<style>\n",
       "    .dataframe thead tr:only-child th {\n",
       "        text-align: right;\n",
       "    }\n",
       "\n",
       "    .dataframe thead th {\n",
       "        text-align: left;\n",
       "    }\n",
       "\n",
       "    .dataframe tbody tr th {\n",
       "        vertical-align: top;\n",
       "    }\n",
       "</style>\n",
       "<table border=\"1\" class=\"dataframe\">\n",
       "  <thead>\n",
       "    <tr style=\"text-align: right;\">\n",
       "      <th></th>\n",
       "      <th>importance</th>\n",
       "    </tr>\n",
       "  </thead>\n",
       "  <tbody>\n",
       "    <tr>\n",
       "      <th>source</th>\n",
       "      <td>0.006822</td>\n",
       "    </tr>\n",
       "    <tr>\n",
       "      <th>age</th>\n",
       "      <td>0.006692</td>\n",
       "    </tr>\n",
       "    <tr>\n",
       "      <th>avggift</th>\n",
       "      <td>0.006608</td>\n",
       "    </tr>\n",
       "    <tr>\n",
       "      <th>timelag</th>\n",
       "      <td>0.006068</td>\n",
       "    </tr>\n",
       "    <tr>\n",
       "      <th>numprom</th>\n",
       "      <td>0.006013</td>\n",
       "    </tr>\n",
       "    <tr>\n",
       "      <th>minrdate</th>\n",
       "      <td>0.005915</td>\n",
       "    </tr>\n",
       "    <tr>\n",
       "      <th>ramntall</th>\n",
       "      <td>0.005842</td>\n",
       "    </tr>\n",
       "    <tr>\n",
       "      <th>maxrdate</th>\n",
       "      <td>0.005728</td>\n",
       "    </tr>\n",
       "    <tr>\n",
       "      <th>fistdate</th>\n",
       "      <td>0.005550</td>\n",
       "    </tr>\n",
       "    <tr>\n",
       "      <th>nextdate</th>\n",
       "      <td>0.005399</td>\n",
       "    </tr>\n",
       "    <tr>\n",
       "      <th>pop903</th>\n",
       "      <td>0.005362</td>\n",
       "    </tr>\n",
       "    <tr>\n",
       "      <th>numprm12</th>\n",
       "      <td>0.005355</td>\n",
       "    </tr>\n",
       "    <tr>\n",
       "      <th>cardprom</th>\n",
       "      <td>0.005160</td>\n",
       "    </tr>\n",
       "    <tr>\n",
       "      <th>pop901</th>\n",
       "      <td>0.004852</td>\n",
       "    </tr>\n",
       "    <tr>\n",
       "      <th>eic4</th>\n",
       "      <td>0.004690</td>\n",
       "    </tr>\n",
       "  </tbody>\n",
       "</table>\n",
       "</div>"
      ],
      "text/plain": [
       "          importance\n",
       "source      0.006822\n",
       "age         0.006692\n",
       "avggift     0.006608\n",
       "timelag     0.006068\n",
       "numprom     0.006013\n",
       "minrdate    0.005915\n",
       "ramntall    0.005842\n",
       "maxrdate    0.005728\n",
       "fistdate    0.005550\n",
       "nextdate    0.005399\n",
       "pop903      0.005362\n",
       "numprm12    0.005355\n",
       "cardprom    0.005160\n",
       "pop901      0.004852\n",
       "eic4        0.004690"
      ]
     },
     "execution_count": 191,
     "metadata": {},
     "output_type": "execute_result"
    }
   ],
   "source": [
    "#Let's see the important features in the RF model\n",
    "feature_importances = pd.DataFrame(rf.feature_importances_,\n",
    "                                   index = train_x_train.columns,\n",
    "                                    columns=['importance']).sort_values('importance',ascending=False)\n",
    "feature_importances[0:15]"
   ]
  },
  {
   "cell_type": "code",
   "execution_count": 42,
   "metadata": {
    "collapsed": true
   },
   "outputs": [],
   "source": [
    "#pick the responded customers in train dataset to do the regression \n",
    "reg_data = train_data[train_data['responded'] == 1]\n",
    "x_reg_data = x_train[train_data['responded'] == 1]\n",
    "y_reg_data = y_amount[train_data['responded'] == 1]"
   ]
  },
  {
   "cell_type": "code",
   "execution_count": 202,
   "metadata": {},
   "outputs": [
    {
     "name": "stderr",
     "output_type": "stream",
     "text": [
      "/Users/Evelyn/anaconda3/lib/python3.6/site-packages/ipykernel_launcher.py:4: DataConversionWarning: A column-vector y was passed when a 1d array was expected. Please change the shape of y to (n_samples,), for example using ravel().\n",
      "  after removing the cwd from sys.path.\n"
     ]
    },
    {
     "data": {
      "text/plain": [
       "RandomForestRegressor(bootstrap=True, criterion='mse', max_depth=2,\n",
       "           max_features='auto', max_leaf_nodes=None,\n",
       "           min_impurity_decrease=0.0, min_impurity_split=None,\n",
       "           min_samples_leaf=1, min_samples_split=2,\n",
       "           min_weight_fraction_leaf=0.0, n_estimators=10, n_jobs=1,\n",
       "           oob_score=False, random_state=0, verbose=0, warm_start=False)"
      ]
     },
     "execution_count": 202,
     "metadata": {},
     "output_type": "execute_result"
    }
   ],
   "source": [
    "# fit a random forest regressor to predict the amount in train data set within responded data\n",
    "# tried Linear regression, did not work well\n",
    "rf_reg = RandomForestRegressor(max_depth=2, random_state=0)\n",
    "rf_reg.fit(x_reg_data, y_reg_data)"
   ]
  },
  {
   "cell_type": "code",
   "execution_count": 205,
   "metadata": {},
   "outputs": [
    {
     "data": {
      "text/html": [
       "<div>\n",
       "<style>\n",
       "    .dataframe thead tr:only-child th {\n",
       "        text-align: right;\n",
       "    }\n",
       "\n",
       "    .dataframe thead th {\n",
       "        text-align: left;\n",
       "    }\n",
       "\n",
       "    .dataframe tbody tr th {\n",
       "        vertical-align: top;\n",
       "    }\n",
       "</style>\n",
       "<table border=\"1\" class=\"dataframe\">\n",
       "  <thead>\n",
       "    <tr style=\"text-align: right;\">\n",
       "      <th></th>\n",
       "      <th>importance</th>\n",
       "    </tr>\n",
       "  </thead>\n",
       "  <tbody>\n",
       "    <tr>\n",
       "      <th>lastgift</th>\n",
       "      <td>0.745727</td>\n",
       "    </tr>\n",
       "    <tr>\n",
       "      <th>rfa_2a</th>\n",
       "      <td>0.188988</td>\n",
       "    </tr>\n",
       "    <tr>\n",
       "      <th>avggift</th>\n",
       "      <td>0.043074</td>\n",
       "    </tr>\n",
       "    <tr>\n",
       "      <th>recpgvg</th>\n",
       "      <td>0.022211</td>\n",
       "    </tr>\n",
       "  </tbody>\n",
       "</table>\n",
       "</div>"
      ],
      "text/plain": [
       "          importance\n",
       "lastgift    0.745727\n",
       "rfa_2a      0.188988\n",
       "avggift     0.043074\n",
       "recpgvg     0.022211"
      ]
     },
     "execution_count": 205,
     "metadata": {},
     "output_type": "execute_result"
    }
   ],
   "source": [
    "#The important features in the regression model\n",
    "\n",
    "rf_reg_feature_importances = pd.DataFrame(rf_reg.feature_importances_,\n",
    "                                   index = train_x_train.columns,\n",
    "                                    columns=['importance']).sort_values('importance',ascending=False)\n",
    "rf_reg_feature_importances[0:4]"
   ]
  },
  {
   "cell_type": "code",
   "execution_count": 208,
   "metadata": {},
   "outputs": [
    {
     "data": {
      "text/plain": [
       "222.45833400880974"
      ]
     },
     "execution_count": 208,
     "metadata": {},
     "output_type": "execute_result"
    }
   ],
   "source": [
    "#The MSE of this regression model\n",
    "from sklearn.metrics import mean_squared_error\n",
    "mean_squared_error(rf_reg.predict(x_reg_data),y_reg_data)"
   ]
  },
  {
   "cell_type": "code",
   "execution_count": 206,
   "metadata": {},
   "outputs": [
    {
     "data": {
      "text/plain": [
       "Counter({0: 9367, 1: 222})"
      ]
     },
     "execution_count": 206,
     "metadata": {},
     "output_type": "execute_result"
    }
   ],
   "source": [
    "#Let's see the responded prediction that we get in the test data set using random forest model\n",
    "test_pred_rf = rf.predict(x_test)\n",
    "Counter(test_pred_rf)"
   ]
  },
  {
   "cell_type": "code",
   "execution_count": 440,
   "metadata": {
    "collapsed": true
   },
   "outputs": [],
   "source": [
    "#pick the responded customer in test dataset\n",
    "reg_data_test = x_test[test_pred_rf == 1]"
   ]
  },
  {
   "cell_type": "code",
   "execution_count": 467,
   "metadata": {
    "collapsed": true
   },
   "outputs": [],
   "source": [
    "#predict the amount that would be given by responded customer in test dataset\n",
    "amount_prediction = rf_reg.predict(reg_data_test)"
   ]
  },
  {
   "cell_type": "code",
   "execution_count": 498,
   "metadata": {
    "collapsed": true
   },
   "outputs": [],
   "source": [
    "test_origin = zip_transform(test_origin)"
   ]
  },
  {
   "cell_type": "code",
   "execution_count": 501,
   "metadata": {
    "collapsed": true
   },
   "outputs": [],
   "source": [
    "# predicted donation amount - Marketing cost > 0 as the customer that we will market\n",
    "# predicted donation amount - Marketing cost < 0 as the customer that we will not market\n",
    "\n",
    "test_origin.market.iloc[reg_data_test.index] = amount_prediction\n",
    "test_origin.market = test_origin.market.fillna(0)\n",
    "test_origin = zipMark_merge(test_origin)\n",
    "test_origin.market = np.where(test_origin.market - test_origin.marketingCost > 0, 1,0)"
   ]
  },
  {
   "cell_type": "code",
   "execution_count": 503,
   "metadata": {},
   "outputs": [
    {
     "data": {
      "text/plain": [
       "0    9402\n",
       "1     187\n",
       "Name: market, dtype: int64"
      ]
     },
     "execution_count": 503,
     "metadata": {},
     "output_type": "execute_result"
    }
   ],
   "source": [
    "#get the final market prediction, 0: not to market, 1: to market\n",
    "test_origin.market.value_counts()"
   ]
  },
  {
   "cell_type": "code",
   "execution_count": 510,
   "metadata": {
    "collapsed": true
   },
   "outputs": [],
   "source": [
    "test_origin.to_csv('/Users/Evelyn/Desktop/Data Science Case Study V2 (amcelhinney)/data/test_final.csv')"
   ]
  },
  {
   "cell_type": "code",
   "execution_count": 40,
   "metadata": {},
   "outputs": [
    {
     "name": "stderr",
     "output_type": "stream",
     "text": [
      "/Users/Evelyn/anaconda3/lib/python3.6/site-packages/sklearn/utils/validation.py:578: DataConversionWarning: A column-vector y was passed when a 1d array was expected. Please change the shape of y to (n_samples, ), for example using ravel().\n",
      "  y = column_or_1d(y, warn=True)\n"
     ]
    },
    {
     "name": "stdout",
     "output_type": "stream",
     "text": [
      "0.9494483780668533\n",
      "f1 score: 0.011\n"
     ]
    }
   ],
   "source": [
    "#Next, we can try gradient boost classifier\n",
    "# model_gbdt = GradientBoostingClassifier().fit(train_x_train,train_y_train)\n",
    "# pred_gbdt = model_gbdt.predict(train_x_test)\n",
    "# print(accuracy_score(pred_gbdt, train_y_test))\n",
    "# print('f1 score: %5.3f' % f1_score(y_pred=pred_gbdt,y_true=train_y_test))"
   ]
  },
  {
   "cell_type": "code",
   "execution_count": 198,
   "metadata": {
    "collapsed": true
   },
   "outputs": [
    {
     "data": {
      "text/html": [
       "<div>\n",
       "<style>\n",
       "    .dataframe thead tr:only-child th {\n",
       "        text-align: right;\n",
       "    }\n",
       "\n",
       "    .dataframe thead th {\n",
       "        text-align: left;\n",
       "    }\n",
       "\n",
       "    .dataframe tbody tr th {\n",
       "        vertical-align: top;\n",
       "    }\n",
       "</style>\n",
       "<table border=\"1\" class=\"dataframe\">\n",
       "  <thead>\n",
       "    <tr style=\"text-align: right;\">\n",
       "      <th></th>\n",
       "      <th>importance</th>\n",
       "    </tr>\n",
       "  </thead>\n",
       "  <tbody>\n",
       "    <tr>\n",
       "      <th>lastdate</th>\n",
       "      <td>0.033786</td>\n",
       "    </tr>\n",
       "    <tr>\n",
       "      <th>ngiftall</th>\n",
       "      <td>0.027027</td>\n",
       "    </tr>\n",
       "    <tr>\n",
       "      <th>rfa_2a</th>\n",
       "      <td>0.025977</td>\n",
       "    </tr>\n",
       "    <tr>\n",
       "      <th>numprm12</th>\n",
       "      <td>0.025289</td>\n",
       "    </tr>\n",
       "    <tr>\n",
       "      <th>age</th>\n",
       "      <td>0.025248</td>\n",
       "    </tr>\n",
       "    <tr>\n",
       "      <th>lastgift</th>\n",
       "      <td>0.021878</td>\n",
       "    </tr>\n",
       "    <tr>\n",
       "      <th>cardgift</th>\n",
       "      <td>0.020469</td>\n",
       "    </tr>\n",
       "    <tr>\n",
       "      <th>cardpm12</th>\n",
       "      <td>0.016842</td>\n",
       "    </tr>\n",
       "    <tr>\n",
       "      <th>eic2</th>\n",
       "      <td>0.016631</td>\n",
       "    </tr>\n",
       "    <tr>\n",
       "      <th>rfa_2</th>\n",
       "      <td>0.015410</td>\n",
       "    </tr>\n",
       "    <tr>\n",
       "      <th>eth10</th>\n",
       "      <td>0.015409</td>\n",
       "    </tr>\n",
       "    <tr>\n",
       "      <th>rfa_2f</th>\n",
       "      <td>0.014829</td>\n",
       "    </tr>\n",
       "    <tr>\n",
       "      <th>avggift</th>\n",
       "      <td>0.014647</td>\n",
       "    </tr>\n",
       "    <tr>\n",
       "      <th>nextdate</th>\n",
       "      <td>0.014458</td>\n",
       "    </tr>\n",
       "    <tr>\n",
       "      <th>time_away_first_time</th>\n",
       "      <td>0.013308</td>\n",
       "    </tr>\n",
       "  </tbody>\n",
       "</table>\n",
       "</div>"
      ],
      "text/plain": [
       "                      importance\n",
       "lastdate                0.033786\n",
       "ngiftall                0.027027\n",
       "rfa_2a                  0.025977\n",
       "numprm12                0.025289\n",
       "age                     0.025248\n",
       "lastgift                0.021878\n",
       "cardgift                0.020469\n",
       "cardpm12                0.016842\n",
       "eic2                    0.016631\n",
       "rfa_2                   0.015410\n",
       "eth10                   0.015409\n",
       "rfa_2f                  0.014829\n",
       "avggift                 0.014647\n",
       "nextdate                0.014458\n",
       "time_away_first_time    0.013308"
      ]
     },
     "execution_count": 198,
     "metadata": {},
     "output_type": "execute_result"
    }
   ],
   "source": [
    "#model_gbdt.feature_importances_\n",
    "features_importance_gbdt = pd.DataFrame(model_gbdt.feature_importances_,\n",
    "                             index = train_x_train.columns,\n",
    "                             columns=['importance']).sort_values('importance',ascending=False)\n",
    "\n",
    "features_importance_gbdt[0:15]"
   ]
  },
  {
   "cell_type": "code",
   "execution_count": 249,
   "metadata": {
    "collapsed": true
   },
   "outputs": [
    {
     "data": {
      "image/png": "[encoded data removed]",
      "text/plain": [
       "<matplotlib.figure.Figure at 0x1a2af88208>"
      ]
     },
     "metadata": {},
     "output_type": "display_data"
    }
   ],
   "source": [
    "#data visualization\n",
    "#The last date VS response\n",
    "fig, ax = plt.subplots(figsize=(15,7))\n",
    "r_lastdate = train_data[['lastdate','responded']].groupby('lastdate', as_index = False).mean().sort_values(by='responded', ascending = False)\n",
    "r_lastdate.plot.bar(x='lastdate',y='responded',ax=ax)\n",
    "plt.show()"
   ]
  },
  {
   "cell_type": "code",
   "execution_count": 230,
   "metadata": {
    "collapsed": true
   },
   "outputs": [
    {
     "data": {
      "text/html": [
       "<div>\n",
       "<style>\n",
       "    .dataframe thead tr:only-child th {\n",
       "        text-align: right;\n",
       "    }\n",
       "\n",
       "    .dataframe thead th {\n",
       "        text-align: left;\n",
       "    }\n",
       "\n",
       "    .dataframe tbody tr th {\n",
       "        vertical-align: top;\n",
       "    }\n",
       "</style>\n",
       "<table border=\"1\" class=\"dataframe\">\n",
       "  <thead>\n",
       "    <tr style=\"text-align: right;\">\n",
       "      <th></th>\n",
       "      <th>ngiftall</th>\n",
       "      <th>responded</th>\n",
       "    </tr>\n",
       "  </thead>\n",
       "  <tbody>\n",
       "    <tr>\n",
       "      <th>85</th>\n",
       "      <td>91</td>\n",
       "      <td>1.000000</td>\n",
       "    </tr>\n",
       "    <tr>\n",
       "      <th>79</th>\n",
       "      <td>82</td>\n",
       "      <td>1.000000</td>\n",
       "    </tr>\n",
       "    <tr>\n",
       "      <th>84</th>\n",
       "      <td>89</td>\n",
       "      <td>0.500000</td>\n",
       "    </tr>\n",
       "    <tr>\n",
       "      <th>62</th>\n",
       "      <td>63</td>\n",
       "      <td>0.250000</td>\n",
       "    </tr>\n",
       "    <tr>\n",
       "      <th>75</th>\n",
       "      <td>77</td>\n",
       "      <td>0.250000</td>\n",
       "    </tr>\n",
       "    <tr>\n",
       "      <th>68</th>\n",
       "      <td>69</td>\n",
       "      <td>0.200000</td>\n",
       "    </tr>\n",
       "    <tr>\n",
       "      <th>54</th>\n",
       "      <td>55</td>\n",
       "      <td>0.187500</td>\n",
       "    </tr>\n",
       "    <tr>\n",
       "      <th>59</th>\n",
       "      <td>60</td>\n",
       "      <td>0.181818</td>\n",
       "    </tr>\n",
       "    <tr>\n",
       "      <th>67</th>\n",
       "      <td>68</td>\n",
       "      <td>0.166667</td>\n",
       "    </tr>\n",
       "    <tr>\n",
       "      <th>53</th>\n",
       "      <td>54</td>\n",
       "      <td>0.163265</td>\n",
       "    </tr>\n",
       "    <tr>\n",
       "      <th>55</th>\n",
       "      <td>56</td>\n",
       "      <td>0.148148</td>\n",
       "    </tr>\n",
       "    <tr>\n",
       "      <th>43</th>\n",
       "      <td>44</td>\n",
       "      <td>0.102564</td>\n",
       "    </tr>\n",
       "    <tr>\n",
       "      <th>40</th>\n",
       "      <td>41</td>\n",
       "      <td>0.100000</td>\n",
       "    </tr>\n",
       "    <tr>\n",
       "      <th>60</th>\n",
       "      <td>61</td>\n",
       "      <td>0.100000</td>\n",
       "    </tr>\n",
       "    <tr>\n",
       "      <th>48</th>\n",
       "      <td>49</td>\n",
       "      <td>0.098361</td>\n",
       "    </tr>\n",
       "    <tr>\n",
       "      <th>34</th>\n",
       "      <td>35</td>\n",
       "      <td>0.096677</td>\n",
       "    </tr>\n",
       "    <tr>\n",
       "      <th>42</th>\n",
       "      <td>43</td>\n",
       "      <td>0.094675</td>\n",
       "    </tr>\n",
       "    <tr>\n",
       "      <th>33</th>\n",
       "      <td>34</td>\n",
       "      <td>0.094203</td>\n",
       "    </tr>\n",
       "    <tr>\n",
       "      <th>45</th>\n",
       "      <td>46</td>\n",
       "      <td>0.091743</td>\n",
       "    </tr>\n",
       "    <tr>\n",
       "      <th>32</th>\n",
       "      <td>33</td>\n",
       "      <td>0.090535</td>\n",
       "    </tr>\n",
       "    <tr>\n",
       "      <th>25</th>\n",
       "      <td>26</td>\n",
       "      <td>0.085317</td>\n",
       "    </tr>\n",
       "    <tr>\n",
       "      <th>29</th>\n",
       "      <td>30</td>\n",
       "      <td>0.083841</td>\n",
       "    </tr>\n",
       "    <tr>\n",
       "      <th>47</th>\n",
       "      <td>48</td>\n",
       "      <td>0.082474</td>\n",
       "    </tr>\n",
       "    <tr>\n",
       "      <th>28</th>\n",
       "      <td>29</td>\n",
       "      <td>0.082037</td>\n",
       "    </tr>\n",
       "    <tr>\n",
       "      <th>26</th>\n",
       "      <td>27</td>\n",
       "      <td>0.079710</td>\n",
       "    </tr>\n",
       "    <tr>\n",
       "      <th>36</th>\n",
       "      <td>37</td>\n",
       "      <td>0.078853</td>\n",
       "    </tr>\n",
       "    <tr>\n",
       "      <th>19</th>\n",
       "      <td>20</td>\n",
       "      <td>0.076953</td>\n",
       "    </tr>\n",
       "    <tr>\n",
       "      <th>27</th>\n",
       "      <td>28</td>\n",
       "      <td>0.073143</td>\n",
       "    </tr>\n",
       "    <tr>\n",
       "      <th>51</th>\n",
       "      <td>52</td>\n",
       "      <td>0.072727</td>\n",
       "    </tr>\n",
       "    <tr>\n",
       "      <th>30</th>\n",
       "      <td>31</td>\n",
       "      <td>0.071017</td>\n",
       "    </tr>\n",
       "    <tr>\n",
       "      <th>...</th>\n",
       "      <td>...</td>\n",
       "      <td>...</td>\n",
       "    </tr>\n",
       "    <tr>\n",
       "      <th>49</th>\n",
       "      <td>50</td>\n",
       "      <td>0.038462</td>\n",
       "    </tr>\n",
       "    <tr>\n",
       "      <th>1</th>\n",
       "      <td>2</td>\n",
       "      <td>0.036284</td>\n",
       "    </tr>\n",
       "    <tr>\n",
       "      <th>0</th>\n",
       "      <td>1</td>\n",
       "      <td>0.032569</td>\n",
       "    </tr>\n",
       "    <tr>\n",
       "      <th>39</th>\n",
       "      <td>40</td>\n",
       "      <td>0.028571</td>\n",
       "    </tr>\n",
       "    <tr>\n",
       "      <th>63</th>\n",
       "      <td>64</td>\n",
       "      <td>0.000000</td>\n",
       "    </tr>\n",
       "    <tr>\n",
       "      <th>77</th>\n",
       "      <td>79</td>\n",
       "      <td>0.000000</td>\n",
       "    </tr>\n",
       "    <tr>\n",
       "      <th>88</th>\n",
       "      <td>147</td>\n",
       "      <td>0.000000</td>\n",
       "    </tr>\n",
       "    <tr>\n",
       "      <th>87</th>\n",
       "      <td>116</td>\n",
       "      <td>0.000000</td>\n",
       "    </tr>\n",
       "    <tr>\n",
       "      <th>86</th>\n",
       "      <td>95</td>\n",
       "      <td>0.000000</td>\n",
       "    </tr>\n",
       "    <tr>\n",
       "      <th>52</th>\n",
       "      <td>53</td>\n",
       "      <td>0.000000</td>\n",
       "    </tr>\n",
       "    <tr>\n",
       "      <th>83</th>\n",
       "      <td>87</td>\n",
       "      <td>0.000000</td>\n",
       "    </tr>\n",
       "    <tr>\n",
       "      <th>82</th>\n",
       "      <td>86</td>\n",
       "      <td>0.000000</td>\n",
       "    </tr>\n",
       "    <tr>\n",
       "      <th>81</th>\n",
       "      <td>85</td>\n",
       "      <td>0.000000</td>\n",
       "    </tr>\n",
       "    <tr>\n",
       "      <th>80</th>\n",
       "      <td>84</td>\n",
       "      <td>0.000000</td>\n",
       "    </tr>\n",
       "    <tr>\n",
       "      <th>56</th>\n",
       "      <td>57</td>\n",
       "      <td>0.000000</td>\n",
       "    </tr>\n",
       "    <tr>\n",
       "      <th>78</th>\n",
       "      <td>80</td>\n",
       "      <td>0.000000</td>\n",
       "    </tr>\n",
       "    <tr>\n",
       "      <th>76</th>\n",
       "      <td>78</td>\n",
       "      <td>0.000000</td>\n",
       "    </tr>\n",
       "    <tr>\n",
       "      <th>64</th>\n",
       "      <td>65</td>\n",
       "      <td>0.000000</td>\n",
       "    </tr>\n",
       "    <tr>\n",
       "      <th>57</th>\n",
       "      <td>58</td>\n",
       "      <td>0.000000</td>\n",
       "    </tr>\n",
       "    <tr>\n",
       "      <th>74</th>\n",
       "      <td>76</td>\n",
       "      <td>0.000000</td>\n",
       "    </tr>\n",
       "    <tr>\n",
       "      <th>73</th>\n",
       "      <td>75</td>\n",
       "      <td>0.000000</td>\n",
       "    </tr>\n",
       "    <tr>\n",
       "      <th>72</th>\n",
       "      <td>74</td>\n",
       "      <td>0.000000</td>\n",
       "    </tr>\n",
       "    <tr>\n",
       "      <th>71</th>\n",
       "      <td>73</td>\n",
       "      <td>0.000000</td>\n",
       "    </tr>\n",
       "    <tr>\n",
       "      <th>70</th>\n",
       "      <td>72</td>\n",
       "      <td>0.000000</td>\n",
       "    </tr>\n",
       "    <tr>\n",
       "      <th>69</th>\n",
       "      <td>71</td>\n",
       "      <td>0.000000</td>\n",
       "    </tr>\n",
       "    <tr>\n",
       "      <th>58</th>\n",
       "      <td>59</td>\n",
       "      <td>0.000000</td>\n",
       "    </tr>\n",
       "    <tr>\n",
       "      <th>61</th>\n",
       "      <td>62</td>\n",
       "      <td>0.000000</td>\n",
       "    </tr>\n",
       "    <tr>\n",
       "      <th>66</th>\n",
       "      <td>67</td>\n",
       "      <td>0.000000</td>\n",
       "    </tr>\n",
       "    <tr>\n",
       "      <th>65</th>\n",
       "      <td>66</td>\n",
       "      <td>0.000000</td>\n",
       "    </tr>\n",
       "    <tr>\n",
       "      <th>89</th>\n",
       "      <td>237</td>\n",
       "      <td>0.000000</td>\n",
       "    </tr>\n",
       "  </tbody>\n",
       "</table>\n",
       "<p>90 rows × 2 columns</p>\n",
       "</div>"
      ],
      "text/plain": [
       "    ngiftall  responded\n",
       "85        91   1.000000\n",
       "79        82   1.000000\n",
       "84        89   0.500000\n",
       "62        63   0.250000\n",
       "75        77   0.250000\n",
       "68        69   0.200000\n",
       "54        55   0.187500\n",
       "59        60   0.181818\n",
       "67        68   0.166667\n",
       "53        54   0.163265\n",
       "55        56   0.148148\n",
       "43        44   0.102564\n",
       "40        41   0.100000\n",
       "60        61   0.100000\n",
       "48        49   0.098361\n",
       "34        35   0.096677\n",
       "42        43   0.094675\n",
       "33        34   0.094203\n",
       "45        46   0.091743\n",
       "32        33   0.090535\n",
       "25        26   0.085317\n",
       "29        30   0.083841\n",
       "47        48   0.082474\n",
       "28        29   0.082037\n",
       "26        27   0.079710\n",
       "36        37   0.078853\n",
       "19        20   0.076953\n",
       "27        28   0.073143\n",
       "51        52   0.072727\n",
       "30        31   0.071017\n",
       "..       ...        ...\n",
       "49        50   0.038462\n",
       "1          2   0.036284\n",
       "0          1   0.032569\n",
       "39        40   0.028571\n",
       "63        64   0.000000\n",
       "77        79   0.000000\n",
       "88       147   0.000000\n",
       "87       116   0.000000\n",
       "86        95   0.000000\n",
       "52        53   0.000000\n",
       "83        87   0.000000\n",
       "82        86   0.000000\n",
       "81        85   0.000000\n",
       "80        84   0.000000\n",
       "56        57   0.000000\n",
       "78        80   0.000000\n",
       "76        78   0.000000\n",
       "64        65   0.000000\n",
       "57        58   0.000000\n",
       "74        76   0.000000\n",
       "73        75   0.000000\n",
       "72        74   0.000000\n",
       "71        73   0.000000\n",
       "70        72   0.000000\n",
       "69        71   0.000000\n",
       "58        59   0.000000\n",
       "61        62   0.000000\n",
       "66        67   0.000000\n",
       "65        66   0.000000\n",
       "89       237   0.000000\n",
       "\n",
       "[90 rows x 2 columns]"
      ]
     },
     "execution_count": 230,
     "metadata": {},
     "output_type": "execute_result"
    }
   ],
   "source": [
    "#ngiftall: total number of gifts\n",
    "#ngiftall vs response\n",
    "train_data[['ngiftall','responded']].groupby('ngiftall',as_index=False).mean().sort_values(by='responded', ascending=False)"
   ]
  },
  {
   "cell_type": "code",
   "execution_count": 286,
   "metadata": {
    "collapsed": true
   },
   "outputs": [
    {
     "data": {
      "image/png": "[encoded data removed]",
      "text/plain": [
       "<matplotlib.figure.Figure at 0x1a2afb7198>"
      ]
     },
     "metadata": {},
     "output_type": "display_data"
    }
   ],
   "source": [
    "#lastgift: Dollar amount of most recent gift\n",
    "fig, ax = plt.subplots(figsize=(15,10))\n",
    "plt.scatter(x='lastgift',y='amount',data=train_data)\n",
    "plt.xlabel('lastgift')\n",
    "plt.ylabel('amount')\n",
    "plt.xlim(0,200)\n",
    "plt.ylim(0,200)\n",
    "plt.show()\n",
    "fig.savefig('lastgift')"
   ]
  },
  {
   "cell_type": "code",
   "execution_count": 283,
   "metadata": {
    "collapsed": true
   },
   "outputs": [
    {
     "data": {
      "image/png": "[encoded data removed]",
      "text/plain": [
       "<matplotlib.figure.Figure at 0x1a2b08b4e0>"
      ]
     },
     "metadata": {},
     "output_type": "display_data"
    }
   ],
   "source": [
    "#rfa_2a: Donation Amount code for rfa_2\n",
    "fig, ax = plt.subplots(figsize=(15,10))\n",
    "box_rfa_2a = sns.boxplot(x='rfa_2a',y='amount',data=train_data)\n",
    "box_rfa_2a.set(ylim=[0,200])\n",
    "plt.show()\n",
    "fig.savefig('rfa_2a')"
   ]
  },
  {
   "cell_type": "code",
   "execution_count": 288,
   "metadata": {
    "collapsed": true
   },
   "outputs": [
    {
     "data": {
      "image/png": "[encoded data removed]",
      "text/plain": [
       "<matplotlib.figure.Figure at 0x1a2b15a160>"
      ]
     },
     "metadata": {},
     "output_type": "display_data"
    }
   ],
   "source": [
    "#avggift: Average dollar amount of gifts to date\n",
    "fig, ax = plt.subplots(figsize=(15,10))\n",
    "plt.scatter(x='avggift',y='amount',data=train_data)\n",
    "plt.xlabel('avggift')\n",
    "plt.ylabel('amount')\n",
    "plt.xlim(0,200)\n",
    "plt.ylim(0,200)\n",
    "plt.show()\n",
    "fig.savefig('avggift')"
   ]
  },
  {
   "cell_type": "code",
   "execution_count": null,
   "metadata": {
    "collapsed": true
   },
   "outputs": [],
   "source": []
  }
 ],
 "metadata": {
  "kernelspec": {
   "display_name": "Python 3",
   "language": "python",
   "name": "python3"
  },
  "language_info": {
   "codemirror_mode": {
    "name": "ipython",
    "version": 3
   },
   "file_extension": ".py",
   "mimetype": "text/x-python",
   "name": "python",
   "nbconvert_exporter": "python",
   "pygments_lexer": "ipython3",
   "version": "3.6.3"
  }
 },
 "nbformat": 4,
 "nbformat_minor": 2
}
